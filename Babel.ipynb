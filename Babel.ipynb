{
  "nbformat": 4,
  "nbformat_minor": 0,
  "metadata": {
    "colab": {
      "provenance": [],
      "collapsed_sections": [],
      "authorship_tag": "ABX9TyPjflc3GXS967a//vmTUkqu",
      "include_colab_link": true
    },
    "kernelspec": {
      "name": "python3",
      "display_name": "Python 3"
    },
    "language_info": {
      "name": "python"
    }
  },
  "cells": [
    {
      "cell_type": "markdown",
      "metadata": {
        "id": "view-in-github",
        "colab_type": "text"
      },
      "source": [
        "<a href=\"https://colab.research.google.com/github/Sakshi23-08/Babel/blob/main/Babel.ipynb\" target=\"_parent\"><img src=\"https://colab.research.google.com/assets/colab-badge.svg\" alt=\"Open In Colab\"/></a>"
      ]
    },
    {
      "cell_type": "code",
      "source": [
        "import numpy as np\n",
        "king = {\n",
        "    'name': ['Geoffrey', 'Elizabeth', 'ketharine', 'Richard', 'Napolean', 'Alexander', 'Matteiu', 'Jane', 'Morgan', 'George'],\n",
        "    'score' : [12.5,9,15,np.nan, 10,20,14.5,np.nan, 8,19],\n",
        "    'attempts': [1,3,2,3,2,3,1,1,2,1],\n",
        "    'benevolent_king': ['Y', 'N', 'Y', 'Y', 'N', 'N', 'Y']}\n",
        "labels = ['a','b','c','d','e','f','g','h','i','j']\n",
        "\n",
        "for i in range(len(l)):\n",
        "    if l[i] == 'N':\n",
        "        l[i] = 'Mad King'\n",
        "    if l[i] == 'Y':\n",
        "        l[i] = 'Benevolent'\n",
        "\n",
        "        \n",
        "king['benevolent_king'] = l;\n",
        "print(king);"
      ],
      "metadata": {
        "colab": {
          "base_uri": "https://localhost:8080/"
        },
        "id": "llPaPQ9gf2a1",
        "outputId": "af6ececc-1d06-47c8-ee23-0316e99bc979"
      },
      "execution_count": 15,
      "outputs": [
        {
          "output_type": "stream",
          "name": "stdout",
          "text": [
            "{'name': ['Geoffrey', 'Elizabeth', 'ketharine', 'Richard', 'Napolean', 'Alexander', 'Matteiu', 'Jane', 'Morgan', 'George'], 'score': [12.5, 9, 15, nan, 10, 20, 14.5, nan, 8, 19], 'attempts': [1, 3, 2, 3, 2, 3, 1, 1, 2, 1], 'benevolent_king': ['Benevolent', 'Mad King', 'Benevolent', 'Benevolent', 'Mad King', 'Mad King', 'Benevolent']}\n"
          ]
        }
      ]
    }
  ]
}